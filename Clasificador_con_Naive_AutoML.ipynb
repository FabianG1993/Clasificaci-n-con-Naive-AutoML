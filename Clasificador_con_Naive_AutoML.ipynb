{
  "nbformat": 4,
  "nbformat_minor": 0,
  "metadata": {
    "colab": {
      "provenance": []
    },
    "kernelspec": {
      "name": "python3",
      "display_name": "Python 3"
    },
    "language_info": {
      "name": "python"
    }
  },
  "cells": [
    {
      "cell_type": "code",
      "execution_count": null,
      "metadata": {
        "id": "xRQ-aMJSdl2i"
      },
      "outputs": [],
      "source": [
        "!pip install naiveautoml # documentacion: https://github.com/fmohr/naiveautoml"
      ]
    },
    {
      "cell_type": "code",
      "source": [
        "import numpy as np\n",
        "import pandas as pd\n",
        "from sklearn.model_selection import train_test_split\n",
        "from sklearn.metrics import accuracy_score\n",
        "from sklearn.datasets import load_iris\n",
        "from sklearn.ensemble import *\n",
        "from sklearn.linear_model import *\n",
        "from sklearn.naive_bayes import *\n",
        "from sklearn.neighbors import *\n",
        "from sklearn.tree import *\n",
        "from sklearn.neural_network import *\n",
        "from sklearn.svm import *\n",
        "from sklearn.gaussian_process import *\n",
        "from sklearn.discriminant_analysis import *\n",
        "from sklearn.cluster import *\n",
        "from sklearn.mixture import *\n",
        "from sklearn.decomposition import *\n",
        "from xgboost import *\n",
        "from lightgbm import *\n",
        "import naiveautoml"
      ],
      "metadata": {
        "id": "njQku5TzdtPS"
      },
      "execution_count": null,
      "outputs": []
    },
    {
      "cell_type": "code",
      "source": [
        "# carga de datos\n",
        "iris = load_iris()\n",
        "X, y = iris.data, iris.target"
      ],
      "metadata": {
        "id": "lavqNY2rFABE"
      },
      "execution_count": null,
      "outputs": []
    },
    {
      "cell_type": "code",
      "source": [
        "# aplicamos la clase naiveautoml \n",
        "naml = naiveautoml.NaiveAutoML(scoring=\"accuracy\", timeout=120, execution_timeout=120, max_hpo_iterations=100, show_progress=False)\n",
        "naml.fit(X, y)\n",
        "results = pd.DataFrame(naml.history)\n",
        "results.head()"
      ],
      "metadata": {
        "id": "ynjGzSReQ7DE"
      },
      "execution_count": null,
      "outputs": []
    },
    {
      "cell_type": "code",
      "source": [
        "# extraemos las filas con el mejor y el peor score (accuracy)\n",
        "max_row = results.loc[results['score_internal'].idxmax()]\n",
        "min_row = results.loc[results['score_internal'].idxmin()]\n",
        "print(max_row)"
      ],
      "metadata": {
        "colab": {
          "base_uri": "https://localhost:8080/"
        },
        "id": "ogEw4O-IgCF3",
        "outputId": "af31d060-5b55-40e2-fe9c-ffd4854a0ab8"
      },
      "execution_count": null,
      "outputs": [
        {
          "output_type": "stream",
          "name": "stdout",
          "text": [
            "time                                                       2.110021\n",
            "pl                Pipeline(steps=[('learner', SVC(kernel='linear...\n",
            "score_internal                                               0.9867\n",
            "scores                                         {'accuracy': 0.9867}\n",
            "new_best                                                       True\n",
            "Name: 7, dtype: object\n"
          ]
        }
      ]
    },
    {
      "cell_type": "code",
      "source": [
        "# extraemos la info del mejor pipeline\n",
        "best_pipeline = max_row['pl']"
      ],
      "metadata": {
        "id": "SY4CH__sGOk_"
      },
      "execution_count": null,
      "outputs": []
    },
    {
      "cell_type": "code",
      "source": [
        "# creamos objeto pipeline\n",
        "from sklearn.pipeline import Pipeline\n",
        "\n",
        "pipeline = eval(best_pipeline)"
      ],
      "metadata": {
        "id": "eNqRmwBiGhSq"
      },
      "execution_count": null,
      "outputs": []
    },
    {
      "cell_type": "code",
      "source": [
        "type(pipeline)"
      ],
      "metadata": {
        "colab": {
          "base_uri": "https://localhost:8080/"
        },
        "id": "OeVjpRqtHtFX",
        "outputId": "74ea200f-da44-45f4-e4b9-6f39909cbc41"
      },
      "execution_count": null,
      "outputs": [
        {
          "output_type": "execute_result",
          "data": {
            "text/plain": [
              "sklearn.pipeline.Pipeline"
            ]
          },
          "metadata": {},
          "execution_count": 35
        }
      ]
    },
    {
      "cell_type": "code",
      "source": [
        "# dividimos nuestros datos\n",
        "X_train, X_test, y_train, y_test = train_test_split(X,y, test_size=0.2, random_state=42)"
      ],
      "metadata": {
        "id": "CTJd4B0uJSBQ"
      },
      "execution_count": null,
      "outputs": []
    },
    {
      "cell_type": "code",
      "source": [
        "# ajustamos el pipeline a los datos de entrenamiento\n",
        "pipeline.fit(X_train, y_train)\n",
        "\n",
        "# realizamos predicciones\n",
        "y_pred = pipeline.predict(X_test)"
      ],
      "metadata": {
        "id": "y7J8LQ_rJNtN"
      },
      "execution_count": null,
      "outputs": []
    },
    {
      "cell_type": "code",
      "source": [
        "print(y_pred)"
      ],
      "metadata": {
        "colab": {
          "base_uri": "https://localhost:8080/"
        },
        "id": "xV-Yff6-KFoh",
        "outputId": "7e183b87-5f76-4b8d-8bb9-c9a727e2b714"
      },
      "execution_count": null,
      "outputs": [
        {
          "output_type": "stream",
          "name": "stdout",
          "text": [
            "[1 0 2 1 1 0 1 2 1 1 2 0 0 0 0 1 2 1 1 2 0 2 0 2 2 2 2 2 0 0]\n"
          ]
        }
      ]
    },
    {
      "cell_type": "code",
      "source": [
        "# ingresamos nuevos datos\n",
        "x_new = np.array([[4.2, 3.2, 1.8, 1.2],\n",
        "                  [4.9, 3.0, 1.4, 0.2],\n",
        "                  [4.7, 3.2, 1.3, 0.2],\n",
        "                  [4.6, 3.1, 1.5, 0.2],\n",
        "                  [5.0, 3.6, 1.4, 0.2]])\n",
        "\n",
        "# aplicamos predict sobre los nuevos datos\n",
        "y_new_pred = pipeline.predict(x_new)\n",
        "\n",
        "# imprimimos los valores predichos\n",
        "print(y_new_pred)"
      ],
      "metadata": {
        "colab": {
          "base_uri": "https://localhost:8080/"
        },
        "id": "dk14xir4K3wL",
        "outputId": "8bc0748f-16a5-4b7a-a46b-9b9ca5ef37c3"
      },
      "execution_count": null,
      "outputs": [
        {
          "output_type": "stream",
          "name": "stdout",
          "text": [
            "[0 0 0 0 0]\n"
          ]
        }
      ]
    }
  ]
}